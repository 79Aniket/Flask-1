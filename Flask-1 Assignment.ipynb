{
 "cells": [
  {
   "cell_type": "markdown",
   "id": "fc36c5c3-80b2-4fe0-9d03-53d3db4a197b",
   "metadata": {},
   "source": [
    "## Q1. What is Flask Framework? What are the advantages of Flask Framework?"
   ]
  },
  {
   "cell_type": "markdown",
   "id": "e6369242-60d0-4e14-b945-179ddf54246f",
   "metadata": {},
   "source": [
    "## Flask is a lightweight web framework written in Python. It provides a simple and flexible way to build web applications without needing a lot of configuration or boilerplate code. Unlike other frameworks that offer a lot of built-in functionality, Flask focuses on providing the core tools you need and lets you decide how to build your application. \n",
    "## Small to medium-sized projects.\n",
    "## APIs and microservices.\n",
    "## Learning web development.\n",
    "# Advantages of Flask Framework:\n",
    "## Lightweight and Minimal.\n",
    "## Flexible and Customizable.\n",
    "## Easy to Learn.\n",
    "## Scalable.\n",
    "## Rich Ecosystem.\n",
    "## Great for Prototyping and Experimentation."
   ]
  },
  {
   "cell_type": "code",
   "execution_count": null,
   "id": "23720cca-ba37-4146-bd65-458ca6e1aa82",
   "metadata": {},
   "outputs": [],
   "source": []
  },
  {
   "cell_type": "markdown",
   "id": "d9ecd9d6-47eb-448f-b1c7-a01faf364184",
   "metadata": {},
   "source": [
    "## Q2. Create a simple Flask application to display ‘Hello World!!’. Attach the screenshot of the output in Jupyter Notebook."
   ]
  },
  {
   "cell_type": "markdown",
   "id": "657e9872-6e43-4a53-b668-cd401c144bff",
   "metadata": {},
   "source": [
    "![](Q2.jpg)"
   ]
  },
  {
   "cell_type": "markdown",
   "id": "f778b077-1820-4937-83c3-afbb6bf0a023",
   "metadata": {},
   "source": [
    "## Q3. What is App routing in Flask? Why do we use app routes?"
   ]
  },
  {
   "cell_type": "markdown",
   "id": "d98904d0-7ef6-4374-98e0-ede7ff1a014b",
   "metadata": {},
   "source": [
    "## App routing is the technique used to map the specific URL with the associated function intended to perform some task. The Latest Web frameworks use the routing technique to help users remember application URLs.\n",
    "# we use it:\n",
    "## User-friendly URLs: Routing creates meaningful and memorable URLs that users can easily understand and navigate.\n",
    "## Organized code structure: It separates different application functionalities into distinct functions, making your code more modular and maintainable.\n",
    "## Handling different HTTP methods: Routes can be configured to handle various HTTP methods (GET, POST, PUT, DELETE, etc.), enabling you to create diverse web interactions."
   ]
  },
  {
   "cell_type": "code",
   "execution_count": null,
   "id": "4c8ba024-1cf7-4fcf-a1b5-8ded2f29b1a0",
   "metadata": {},
   "outputs": [],
   "source": []
  },
  {
   "cell_type": "markdown",
   "id": "c0cee2b3-d83b-47df-8887-2e991128326f",
   "metadata": {},
   "source": [
    "## Q4. Create a “/welcome” route to display the welcome message “Welcome to ABC Corporation” and a “/”\n",
    "## route to show the following details:\n",
    "## Company Name: ABC Corporation\n",
    "## Location: India\n",
    "## Contact Detail: 999-999-9999"
   ]
  },
  {
   "cell_type": "markdown",
   "id": "e4b2fc8b-4990-4331-b4dd-530e3b8489c2",
   "metadata": {},
   "source": [
    "![](Q4.jpg)"
   ]
  },
  {
   "cell_type": "code",
   "execution_count": null,
   "id": "6c1bc95e-5c06-4250-8a0c-eb8a7b074e75",
   "metadata": {},
   "outputs": [],
   "source": []
  }
 ],
 "metadata": {
  "kernelspec": {
   "display_name": "Python 3 (ipykernel)",
   "language": "python",
   "name": "python3"
  },
  "language_info": {
   "codemirror_mode": {
    "name": "ipython",
    "version": 3
   },
   "file_extension": ".py",
   "mimetype": "text/x-python",
   "name": "python",
   "nbconvert_exporter": "python",
   "pygments_lexer": "ipython3",
   "version": "3.10.8"
  }
 },
 "nbformat": 4,
 "nbformat_minor": 5
}
